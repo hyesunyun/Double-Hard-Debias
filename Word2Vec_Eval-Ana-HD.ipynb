{
 "cells": [
  {
   "cell_type": "markdown",
   "metadata": {},
   "source": [
    "# [Double-Hard Debias: Tailoring Word Embeddings for Gender Bias Mitigation](https://arxiv.org/abs/2005.00965)\n",
    "\n",
    "For more detailed explanations, please refer to the paper."
   ]
  },
  {
   "cell_type": "markdown",
   "metadata": {},
   "source": [
    "### Load embeddings"
   ]
  },
  {
   "cell_type": "code",
   "execution_count": 6,
   "metadata": {},
   "outputs": [
    {
     "name": "stdout",
     "output_type": "stream",
     "text": [
      "The autoreload extension is already loaded. To reload it, use:\n",
      "  %reload_ext autoreload\n"
     ]
    }
   ],
   "source": [
    "import gensim\n",
    "import codecs\n",
    "import numpy as np\n",
    "from numpy import linalg as LA\n",
    "import scipy\n",
    "import codecs, os, json\n",
    "import operator\n",
    "import pickle\n",
    "%load_ext autoreload\n",
    "%autoreload 2\n",
    "\n",
    "def normalize(wv):\n",
    "    \n",
    "    # normalize vectors\n",
    "    norms = np.apply_along_axis(LA.norm, 1, wv)\n",
    "    wv = wv / norms[:, np.newaxis]\n",
    "    return wv\n",
    "\n",
    "def load_w2v(file_path):\n",
    "    model =gensim.models.KeyedVectors.load_word2vec_format(file_path, binary=True)\n",
    "    vocab = sorted([w for w in model.vocab], key=lambda w: model.vocab[w].index)\n",
    "    w2i = {w: i for i, w in enumerate(vocab)}\n",
    "    wv = [model[w] for w in vocab]\n",
    "    wv = np.array(wv)\n",
    "    print(len(vocab), wv.shape, len(w2i))\n",
    "    \n",
    "    return wv, w2i, vocab"
   ]
  },
  {
   "cell_type": "code",
   "execution_count": 7,
   "metadata": {},
   "outputs": [
    {
     "name": "stdout",
     "output_type": "stream",
     "text": [
      "3000000 (3000000, 300) 3000000\n"
     ]
    }
   ],
   "source": [
    "file_path_hd = './data/GoogleNews-vectors-negative300-hard-debiased.bin'\n",
    "\n",
    "hd_wv, hd_w2i, hd_vocab = load_w2v(file_path_hd)"
   ]
  },
  {
   "cell_type": "code",
   "execution_count": 8,
   "metadata": {},
   "outputs": [],
   "source": [
    "# def load_glove_p(path):\n",
    "    \n",
    "#     debiased_embeds = pickle.load(open(path, 'rb'))\n",
    "#     wv = []\n",
    "#     vocab = []\n",
    "#     for w in debiased_embeds:\n",
    "#         print(w)\n",
    "#         print(debiased_embeds[w])\n",
    "#         wv.append(np.array(debiased_embeds[w]))\n",
    "#         vocab.append(str(w))\n",
    "        \n",
    "#     w2i = {w: i for i, w in enumerate(vocab)}\n",
    "#     wv = np.array(wv).astype(float)\n",
    "#     print(len(vocab), wv.shape, len(w2i))\n",
    "        \n",
    "#     return wv, w2i, vocab\n",
    "    \n",
    "# dhd_wv, dhd_w2i, dhd_vocab = load_glove_p(\"./data/dhd_word2vec_reproduce.p\")\n",
    "\n",
    "\n",
    "# def load_glove_p(path):\n",
    "#     # Modified from original because we did not pickle a map but rather wv_f directly\n",
    "#     wv = pickle.load(open(path, 'rb'))\n",
    "#     print(wv.shape)\n",
    "#     return wv\n",
    "# dhd_wv = load_glove_p(\"./data/dhd_word2vec_reproduce.p\")\n",
    "# dhd_w2i = w2i\n",
    "# dhd_vocab = vocab"
   ]
  },
  {
   "cell_type": "markdown",
   "metadata": {},
   "source": [
    "### Analogy & Concept Categorization"
   ]
  },
  {
   "cell_type": "code",
   "execution_count": 9,
   "metadata": {},
   "outputs": [],
   "source": [
    "from eval import evaluate_ana"
   ]
  },
  {
   "cell_type": "code",
   "execution_count": null,
   "metadata": {},
   "outputs": [
    {
     "name": "stdout",
     "output_type": "stream",
     "text": [
      "7022\n",
      "ACCURACY TOP1-MSR: 73.61% (5169/7022)\n",
      "capital-common-countries.txt:\n",
      "ACCURACY TOP1: 24.47% (93/380)\n",
      "capital-world.txt:\n",
      "ACCURACY TOP1: 15.46% (100/647)\n",
      "currency.txt:\n",
      "ACCURACY TOP1: 12.15% (61/502)\n",
      "city-in-state.txt:\n",
      "ACCURACY TOP1: 13.58% (221/1627)\n",
      "family.txt:\n",
      "ACCURACY TOP1: 74.11% (375/506)\n"
     ]
    }
   ],
   "source": [
    "evaluate_ana(hd_wv, hd_w2i, hd_vocab)"
   ]
  },
  {
   "cell_type": "code",
   "execution_count": null,
   "metadata": {},
   "outputs": [],
   "source": []
  }
 ],
 "metadata": {
  "kernelspec": {
   "display_name": "Python 3",
   "language": "python",
   "name": "python3"
  },
  "language_info": {
   "codemirror_mode": {
    "name": "ipython",
    "version": 3
   },
   "file_extension": ".py",
   "mimetype": "text/x-python",
   "name": "python",
   "nbconvert_exporter": "python",
   "pygments_lexer": "ipython3",
   "version": "3.8.3"
  }
 },
 "nbformat": 4,
 "nbformat_minor": 2
}
