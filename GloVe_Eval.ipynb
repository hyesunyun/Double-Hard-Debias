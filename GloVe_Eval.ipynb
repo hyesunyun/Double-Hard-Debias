{
 "cells": [
  {
   "cell_type": "markdown",
   "metadata": {},
   "source": [
    "# [Double-Hard Debias: Tailoring Word Embeddings for Gender Bias Mitigation](https://arxiv.org/abs/2005.00965)\n",
    "\n",
    "For more detailed explanations, please refer to the paper."
   ]
  },
  {
   "cell_type": "markdown",
   "metadata": {},
   "source": [
    "### Load embeddings"
   ]
  },
  {
   "cell_type": "code",
   "execution_count": 1,
   "metadata": {},
   "outputs": [],
   "source": [
    "import codecs, os, json, operator, pickle\n",
    "from random import shuffle\n",
    "import numpy as np\n",
    "from numpy import linalg as LA\n",
    "import scipy\n",
    "\n",
    "%load_ext autoreload\n",
    "%autoreload 2"
   ]
  },
  {
   "cell_type": "code",
   "execution_count": 2,
   "metadata": {},
   "outputs": [],
   "source": [
    "def load_glove(path):\n",
    "    with open(path) as f:\n",
    "        lines = f.readlines()\n",
    "    \n",
    "    wv = []\n",
    "    vocab = []\n",
    "    for line in lines:\n",
    "        tokens = line.strip().split(\" \")\n",
    "        try:\n",
    "            assert len(tokens) == 301\n",
    "            vocab.append(tokens[0])\n",
    "            wv.append([float(elem) for elem in tokens[1:]])\n",
    "        except:\n",
    "            print(line)\n",
    "        \n",
    "    w2i = {w: i for i, w in enumerate(vocab)}\n",
    "    wv = np.array(wv).astype(float)\n",
    "    print(len(vocab), wv.shape, len(w2i))\n",
    "    \n",
    "    return wv, w2i, vocab\n",
    "\n",
    "def normalize(wv):\n",
    "    \n",
    "    # normalize vectors\n",
    "    norms = np.apply_along_axis(LA.norm, 1, wv)\n",
    "    wv = wv / norms[:, np.newaxis]\n",
    "    return wv\n",
    "\n",
    "def debias_gn(wv):\n",
    "    for v in wv:\n",
    "        assert(len(v) == 300)\n",
    "    \n",
    "    wv = wv[:,:-1]\n",
    "\n",
    "    for v in wv:\n",
    "        assert(len(v) == 299)\n",
    "    return wv"
   ]
  },
  {
   "cell_type": "code",
   "execution_count": 6,
   "metadata": {},
   "outputs": [
    {
     "name": "stdout",
     "output_type": "stream",
     "text": [
      "322636 (322636, 300) 322636\n"
     ]
    }
   ],
   "source": [
    "# Baseline GloVe embeddings\n",
    "glove, glove_w2i, vocab = load_glove(\"./data/vectors.txt\")\n",
    "\n",
    "# Below embeddings from from Zhao paper (GN-GloVe and GN-GloVe(W_a))\n",
    "#gn_glove, gn_glove_w2i, gn_vocab = load_glove(\"./data/vectors300.txt\")\n",
    "#gn_glove_a = debias_gn(gn_glove)\n",
    "\n",
    "# Hard GloVe and Strong Hard GloVe\n",
    "# hd_glove, hd_glove_w2i, hd_vocab = load_glove(\n",
    "#     \"./data/vectors_hd.txt\")\n",
    "# hd_glove_a, hd_glove_a_w2i, hd_vocab_a = load_glove(\n",
    "#     \"./data/vectors_hd_a.txt\")\n",
    "\n",
    "# GP-GloVe and GP-GN-GloVe\n",
    "# gp_glove, gp_glove_w2i, gp_vocab = load_glove(\n",
    "#     \"./data/gp_glove.txt\")\n",
    "# gp_gn_glove, gp_gn_glove_w2i, gp_gn_vocab = load_glove(\n",
    "#     \"./data/gp_gn_glove.txt\")"
   ]
  },
  {
   "cell_type": "code",
   "execution_count": 7,
   "metadata": {},
   "outputs": [
    {
     "name": "stdout",
     "output_type": "stream",
     "text": [
      "(322636, 300)\n"
     ]
    }
   ],
   "source": [
    "def load_glove_p(path):\n",
    "    # Modified from original because we did not pickle a map but rather wv_f directly\n",
    "    wv = pickle.load(open(path, 'rb'))\n",
    "    print(wv.shape)\n",
    "        \n",
    "    return wv\n",
    "    \n",
    "dhd_glove = load_glove_p(\"./data/dhd_glove_reproduce.p\")\n",
    "dhd_glove_w2i = glove_w2i\n",
    "dhd_vocab = vocab"
   ]
  },
  {
   "cell_type": "code",
   "execution_count": 3,
   "metadata": {},
   "outputs": [
    {
     "name": "stdout",
     "output_type": "stream",
     "text": [
      "314863 (314863, 300) 314863\n"
     ]
    }
   ],
   "source": [
    "null_glove, null_glove_w2i, null_vocab = load_glove(\"./data/INLP_embeddings/vecs.150k.cleaned.txt\")"
   ]
  },
  {
   "cell_type": "code",
   "execution_count": 4,
   "metadata": {},
   "outputs": [],
   "source": [
    "def simi(a, b):\n",
    "    return 1-scipy.spatial.distance.cosine(a, b)"
   ]
  },
  {
   "cell_type": "markdown",
   "metadata": {},
   "source": [
    "### Word Embedding Utility: Analogy & Concept Categorization"
   ]
  },
  {
   "cell_type": "code",
   "execution_count": 36,
   "metadata": {},
   "outputs": [
    {
     "name": "stderr",
     "output_type": "stream",
     "text": [
      "/Users/david/opt/anaconda3/envs/double_hard/lib/python3.7/site-packages/sklearn/utils/deprecation.py:143: FutureWarning: The sklearn.datasets.base module is  deprecated in version 0.22 and will be removed in version 0.24. The corresponding classes / functions should instead be imported from sklearn.datasets. Anything that cannot be imported from sklearn.datasets is now part of the private API.\n",
      "  warnings.warn(message, FutureWarning)\n"
     ]
    }
   ],
   "source": [
    "from eval import evaluate_cate, evaluate_ana, evaluate_analogy_google, evaluate_analogy_msr"
   ]
  },
  {
   "cell_type": "code",
   "execution_count": 7,
   "metadata": {},
   "outputs": [
    {
     "name": "stdout",
     "output_type": "stream",
     "text": [
      "Calculating categorization benchmarks\n",
      "Sample data from AP, num of samples: 402 : \"['acne']\" is assigned class illness\n",
      "exist 401 in 402\n",
      "Cluster purity on AP 0.5885286783042394\n",
      "Sample data from ESSLI_2c, num of samples: 45 : \"['acquire']\" is assigned class exchange-exchange\n",
      "exist 45 in 45\n",
      "Cluster purity on ESSLI_2c 0.6\n",
      "Sample data from ESSLI_2b, num of samples: 40 : \"['chicken']\" is assigned class HI\n",
      "exist 40 in 40\n",
      "Cluster purity on ESSLI_2b 0.775\n",
      "Sample data from ESSLI_1a, num of samples: 44 : \"['bottle']\" is assigned class tool-artifact\n",
      "exist 44 in 44\n",
      "Cluster purity on ESSLI_1a 0.7272727272727273\n",
      "Sample data from Battig, num of samples: 5231 : \"doll\" is assigned class toy\n",
      "exist 4125 in 5231\n",
      "Cluster purity on Battig 0.4955151515151515\n",
      "Sample data from BLESS, num of samples: 200 : \"['carp']\" is assigned class water_animal\n",
      "exist 200 in 200\n",
      "Cluster purity on BLESS 0.81\n"
     ]
    }
   ],
   "source": [
    "evaluate_cate(glove, glove_w2i, vocab)"
   ]
  },
  {
   "cell_type": "code",
   "execution_count": 59,
   "metadata": {},
   "outputs": [
    {
     "name": "stdout",
     "output_type": "stream",
     "text": [
      "6750\n",
      "ACCURACY TOP1-MSR: 54.24% (3661/6750)\n",
      "capital-common-countries.txt:\n",
      "ACCURACY TOP1: 96.44% (488/506)\n",
      "capital-world.txt:\n",
      "ACCURACY TOP1: 96.35% (4359/4524)\n",
      "currency.txt:\n",
      "ACCURACY TOP1: 6.58% (57/866)\n",
      "city-in-state.txt:\n",
      "ACCURACY TOP1: 72.64% (1792/2467)\n",
      "family.txt:\n",
      "ACCURACY TOP1: 87.35% (442/506)\n",
      "gram1-adjective-to-adverb.txt:\n",
      "ACCURACY TOP1: 20.97% (208/992)\n",
      "gram2-opposite.txt:\n",
      "ACCURACY TOP1: 28.94% (235/812)\n",
      "gram3-comparative.txt:\n",
      "ACCURACY TOP1: 85.29% (1136/1332)\n",
      "gram4-superlative.txt:\n",
      "ACCURACY TOP1: 49.02% (550/1122)\n",
      "gram5-present-participle.txt:\n",
      "ACCURACY TOP1: 63.16% (667/1056)\n",
      "gram6-nationality-adjective.txt:\n",
      "ACCURACY TOP1: 91.99% (1471/1599)\n",
      "gram7-past-tense.txt:\n",
      "ACCURACY TOP1: 56.35% (879/1560)\n",
      "gram8-plural.txt:\n",
      "ACCURACY TOP1: 78.68% (1048/1332)\n",
      "gram9-plural-verbs.txt:\n",
      "ACCURACY TOP1: 58.16% (506/870)\n",
      "Questions seen/total: 100.00% (19544/19544)\n",
      "Semantic accuracy: 80.48%  (7138/8869)\n",
      "Syntactic accuracy: 62.76%  (6700/10675)\n",
      "Total accuracy: 70.80%  (13838/19544)\n",
      "\n",
      "Dataset created in /Users/david/web_data/analogy\n",
      "\n"
     ]
    },
    {
     "name": "stderr",
     "output_type": "stream",
     "text": [
      "/Users/david/opt/anaconda3/envs/double_hard/lib/python3.7/site-packages/web-0.0.1-py3.7.egg/web/evaluate.py:143: FutureWarning: arrays to stack must be passed as a \"sequence\" type such as list or tuple. Support for non-sequence iterables such as generators is deprecated as of NumPy 1.16 and will raise an error in the future.\n",
      "  prot_left = np.mean(np.vstack(w.get(word, mean_vector) for word in prototypes[:, 0]), axis=0)\n",
      "/Users/david/opt/anaconda3/envs/double_hard/lib/python3.7/site-packages/web-0.0.1-py3.7.egg/web/evaluate.py:144: FutureWarning: arrays to stack must be passed as a \"sequence\" type such as list or tuple. Support for non-sequence iterables such as generators is deprecated as of NumPy 1.16 and will raise an error in the future.\n",
      "  prot_right = np.mean(np.vstack(w.get(word, mean_vector) for word in prototypes[:, 1]), axis=0)\n",
      "/Users/david/opt/anaconda3/envs/double_hard/lib/python3.7/site-packages/web-0.0.1-py3.7.egg/web/evaluate.py:147: FutureWarning: arrays to stack must be passed as a \"sequence\" type such as list or tuple. Support for non-sequence iterables such as generators is deprecated as of NumPy 1.16 and will raise an error in the future.\n",
      "  question_left, question_right = np.vstack(w.get(word, mean_vector) for word in questions[:, 0]), \\\n",
      "/Users/david/opt/anaconda3/envs/double_hard/lib/python3.7/site-packages/web-0.0.1-py3.7.egg/web/evaluate.py:148: FutureWarning: arrays to stack must be passed as a \"sequence\" type such as list or tuple. Support for non-sequence iterables such as generators is deprecated as of NumPy 1.16 and will raise an error in the future.\n",
      "  np.vstack(w.get(word, mean_vector) for word in questions[:, 1])\n"
     ]
    },
    {
     "name": "stdout",
     "output_type": "stream",
     "text": [
      "Analogy prediction accuracy on SemEval2012 0.1756625482532434\n"
     ]
    }
   ],
   "source": [
    "evaluate_ana(glove, glove_w2i, vocab)"
   ]
  },
  {
   "cell_type": "code",
   "execution_count": 39,
   "metadata": {},
   "outputs": [
    {
     "name": "stdout",
     "output_type": "stream",
     "text": [
      "Calculating categorization benchmarks\n",
      "Sample data from AP, num of samples: 402 : \"['acne']\" is assigned class illness\n",
      "exist 401 in 402\n",
      "Cluster purity on AP 0.5960099750623441\n",
      "Sample data from ESSLI_2c, num of samples: 45 : \"['acquire']\" is assigned class exchange-exchange\n",
      "exist 45 in 45\n",
      "Cluster purity on ESSLI_2c 0.5777777777777778\n",
      "Sample data from ESSLI_2b, num of samples: 40 : \"['chicken']\" is assigned class HI\n",
      "exist 40 in 40\n",
      "Cluster purity on ESSLI_2b 0.8250000000000001\n",
      "Sample data from ESSLI_1a, num of samples: 44 : \"['bottle']\" is assigned class tool-artifact\n",
      "exist 44 in 44\n",
      "Cluster purity on ESSLI_1a 0.7272727272727273\n",
      "Sample data from Battig, num of samples: 5231 : \"doll\" is assigned class toy\n",
      "exist 4125 in 5231\n",
      "Cluster purity on Battig 0.4661818181818182\n",
      "Sample data from BLESS, num of samples: 200 : \"['carp']\" is assigned class water_animal\n",
      "exist 200 in 200\n",
      "Cluster purity on BLESS 0.795\n"
     ]
    }
   ],
   "source": [
    "evaluate_cate(dhd_glove, dhd_glove_w2i, dhd_vocab)"
   ]
  },
  {
   "cell_type": "code",
   "execution_count": 60,
   "metadata": {},
   "outputs": [
    {
     "name": "stdout",
     "output_type": "stream",
     "text": [
      "6750\n",
      "ACCURACY TOP1-MSR: 53.81% (3632/6750)\n",
      "capital-common-countries.txt:\n",
      "ACCURACY TOP1: 96.44% (488/506)\n",
      "capital-world.txt:\n",
      "ACCURACY TOP1: 96.68% (4374/4524)\n",
      "currency.txt:\n",
      "ACCURACY TOP1: 6.00% (52/866)\n",
      "city-in-state.txt:\n",
      "ACCURACY TOP1: 74.67% (1842/2467)\n",
      "family.txt:\n",
      "ACCURACY TOP1: 83.60% (423/506)\n",
      "gram1-adjective-to-adverb.txt:\n",
      "ACCURACY TOP1: 21.07% (209/992)\n",
      "gram2-opposite.txt:\n",
      "ACCURACY TOP1: 28.33% (230/812)\n",
      "gram3-comparative.txt:\n",
      "ACCURACY TOP1: 84.46% (1125/1332)\n",
      "gram4-superlative.txt:\n",
      "ACCURACY TOP1: 47.42% (532/1122)\n",
      "gram5-present-participle.txt:\n",
      "ACCURACY TOP1: 62.88% (664/1056)\n",
      "gram6-nationality-adjective.txt:\n",
      "ACCURACY TOP1: 91.99% (1471/1599)\n",
      "gram7-past-tense.txt:\n",
      "ACCURACY TOP1: 54.62% (852/1560)\n",
      "gram8-plural.txt:\n",
      "ACCURACY TOP1: 76.43% (1018/1332)\n",
      "gram9-plural-verbs.txt:\n",
      "ACCURACY TOP1: 55.06% (479/870)\n",
      "Questions seen/total: 100.00% (19544/19544)\n",
      "Semantic accuracy: 80.94%  (7179/8869)\n",
      "Syntactic accuracy: 61.64%  (6580/10675)\n",
      "Total accuracy: 70.40%  (13759/19544)\n"
     ]
    },
    {
     "name": "stderr",
     "output_type": "stream",
     "text": [
      "/Users/david/opt/anaconda3/envs/double_hard/lib/python3.7/site-packages/web-0.0.1-py3.7.egg/web/evaluate.py:143: FutureWarning: arrays to stack must be passed as a \"sequence\" type such as list or tuple. Support for non-sequence iterables such as generators is deprecated as of NumPy 1.16 and will raise an error in the future.\n",
      "  prot_left = np.mean(np.vstack(w.get(word, mean_vector) for word in prototypes[:, 0]), axis=0)\n",
      "/Users/david/opt/anaconda3/envs/double_hard/lib/python3.7/site-packages/web-0.0.1-py3.7.egg/web/evaluate.py:144: FutureWarning: arrays to stack must be passed as a \"sequence\" type such as list or tuple. Support for non-sequence iterables such as generators is deprecated as of NumPy 1.16 and will raise an error in the future.\n",
      "  prot_right = np.mean(np.vstack(w.get(word, mean_vector) for word in prototypes[:, 1]), axis=0)\n",
      "/Users/david/opt/anaconda3/envs/double_hard/lib/python3.7/site-packages/web-0.0.1-py3.7.egg/web/evaluate.py:147: FutureWarning: arrays to stack must be passed as a \"sequence\" type such as list or tuple. Support for non-sequence iterables such as generators is deprecated as of NumPy 1.16 and will raise an error in the future.\n",
      "  question_left, question_right = np.vstack(w.get(word, mean_vector) for word in questions[:, 0]), \\\n",
      "/Users/david/opt/anaconda3/envs/double_hard/lib/python3.7/site-packages/web-0.0.1-py3.7.egg/web/evaluate.py:148: FutureWarning: arrays to stack must be passed as a \"sequence\" type such as list or tuple. Support for non-sequence iterables such as generators is deprecated as of NumPy 1.16 and will raise an error in the future.\n",
      "  np.vstack(w.get(word, mean_vector) for word in questions[:, 1])\n"
     ]
    },
    {
     "name": "stdout",
     "output_type": "stream",
     "text": [
      "Analogy prediction accuracy on SemEval2012 0.17303299182822926\n"
     ]
    }
   ],
   "source": [
    "evaluate_ana(dhd_glove, dhd_glove_w2i, dhd_vocab)"
   ]
  },
  {
   "cell_type": "code",
   "execution_count": 37,
   "metadata": {},
   "outputs": [
    {
     "name": "stdout",
     "output_type": "stream",
     "text": [
      "Calculating categorization benchmarks\n",
      "Sample data from AP, num of samples: 402 : \"['acne']\" is assigned class illness\n",
      "exist 401 in 402\n",
      "Cluster purity on AP 0.600997506234414\n",
      "Sample data from ESSLI_2c, num of samples: 45 : \"['acquire']\" is assigned class exchange-exchange\n",
      "exist 45 in 45\n",
      "Cluster purity on ESSLI_2c 0.5777777777777778\n",
      "Sample data from ESSLI_2b, num of samples: 40 : \"['chicken']\" is assigned class HI\n",
      "exist 40 in 40\n",
      "Cluster purity on ESSLI_2b 0.7250000000000001\n",
      "Sample data from ESSLI_1a, num of samples: 44 : \"['bottle']\" is assigned class tool-artifact\n",
      "exist 44 in 44\n",
      "Cluster purity on ESSLI_1a 0.75\n",
      "Sample data from Battig, num of samples: 5231 : \"doll\" is assigned class toy\n",
      "exist 4124 in 5231\n",
      "Cluster purity on Battig 0.4917555771096023\n",
      "Sample data from BLESS, num of samples: 200 : \"['carp']\" is assigned class water_animal\n",
      "exist 200 in 200\n",
      "Cluster purity on BLESS 0.81\n"
     ]
    }
   ],
   "source": [
    "evaluate_cate(null_glove, null_glove_w2i, null_vocab)"
   ]
  },
  {
   "cell_type": "code",
   "execution_count": 38,
   "metadata": {},
   "outputs": [
    {
     "name": "stdout",
     "output_type": "stream",
     "text": [
      "6750\n",
      "ACCURACY TOP1-MSR: 52.09% (3516/6750)\n",
      "capital-common-countries.txt:\n",
      "ACCURACY TOP1: 95.26% (482/506)\n",
      "capital-world.txt:\n",
      "ACCURACY TOP1: 96.33% (4358/4524)\n",
      "currency.txt:\n",
      "ACCURACY TOP1: 4.73% (41/866)\n",
      "city-in-state.txt:\n",
      "ACCURACY TOP1: 75.23% (1856/2467)\n",
      "family.txt:\n",
      "ACCURACY TOP1: 81.23% (411/506)\n",
      "gram1-adjective-to-adverb.txt:\n",
      "ACCURACY TOP1: 20.36% (202/992)\n",
      "gram2-opposite.txt:\n",
      "ACCURACY TOP1: 27.09% (220/812)\n",
      "gram3-comparative.txt:\n",
      "ACCURACY TOP1: 85.51% (1139/1332)\n",
      "gram4-superlative.txt:\n",
      "ACCURACY TOP1: 42.34% (475/1122)\n",
      "gram5-present-participle.txt:\n",
      "ACCURACY TOP1: 59.94% (633/1056)\n",
      "gram6-nationality-adjective.txt:\n",
      "ACCURACY TOP1: 91.12% (1457/1599)\n",
      "gram7-past-tense.txt:\n",
      "ACCURACY TOP1: 53.85% (840/1560)\n",
      "gram8-plural.txt:\n",
      "ACCURACY TOP1: 74.02% (986/1332)\n",
      "gram9-plural-verbs.txt:\n",
      "ACCURACY TOP1: 58.85% (512/870)\n",
      "Questions seen/total: 100.00% (19544/19544)\n",
      "Semantic accuracy: 80.60%  (7148/8869)\n",
      "Syntactic accuracy: 60.55%  (6464/10675)\n",
      "Total accuracy: 69.65%  (13612/19544)\n"
     ]
    },
    {
     "name": "stderr",
     "output_type": "stream",
     "text": [
      "/Users/david/opt/anaconda3/envs/double_hard/lib/python3.7/site-packages/web-0.0.1-py3.7.egg/web/evaluate.py:143: FutureWarning: arrays to stack must be passed as a \"sequence\" type such as list or tuple. Support for non-sequence iterables such as generators is deprecated as of NumPy 1.16 and will raise an error in the future.\n",
      "  prot_left = np.mean(np.vstack(w.get(word, mean_vector) for word in prototypes[:, 0]), axis=0)\n",
      "/Users/david/opt/anaconda3/envs/double_hard/lib/python3.7/site-packages/web-0.0.1-py3.7.egg/web/evaluate.py:144: FutureWarning: arrays to stack must be passed as a \"sequence\" type such as list or tuple. Support for non-sequence iterables such as generators is deprecated as of NumPy 1.16 and will raise an error in the future.\n",
      "  prot_right = np.mean(np.vstack(w.get(word, mean_vector) for word in prototypes[:, 1]), axis=0)\n",
      "/Users/david/opt/anaconda3/envs/double_hard/lib/python3.7/site-packages/web-0.0.1-py3.7.egg/web/evaluate.py:147: FutureWarning: arrays to stack must be passed as a \"sequence\" type such as list or tuple. Support for non-sequence iterables such as generators is deprecated as of NumPy 1.16 and will raise an error in the future.\n",
      "  question_left, question_right = np.vstack(w.get(word, mean_vector) for word in questions[:, 0]), \\\n",
      "/Users/david/opt/anaconda3/envs/double_hard/lib/python3.7/site-packages/web-0.0.1-py3.7.egg/web/evaluate.py:148: FutureWarning: arrays to stack must be passed as a \"sequence\" type such as list or tuple. Support for non-sequence iterables such as generators is deprecated as of NumPy 1.16 and will raise an error in the future.\n",
      "  np.vstack(w.get(word, mean_vector) for word in questions[:, 1])\n"
     ]
    },
    {
     "name": "stdout",
     "output_type": "stream",
     "text": [
      "Analogy prediction accuracy on SemEval2012 0.17765165972024588\n"
     ]
    }
   ],
   "source": [
    "evaluate_ana(null_glove, null_glove_w2i, null_vocab)"
   ]
  },
  {
   "cell_type": "markdown",
   "metadata": {},
   "source": [
    "## Gender Bias Evaluation:\n",
    "### Restrict vocabulary"
   ]
  },
  {
   "cell_type": "code",
   "execution_count": 8,
   "metadata": {},
   "outputs": [
    {
     "name": "stderr",
     "output_type": "stream",
     "text": [
      " 40%|███▉      | 19787/50000 [00:00<00:00, 176813.06it/s]"
     ]
    },
    {
     "name": "stdout",
     "output_type": "stream",
     "text": [
      "442\n",
      "1883\n"
     ]
    },
    {
     "name": "stderr",
     "output_type": "stream",
     "text": [
      "100%|██████████| 50000/50000 [00:00<00:00, 142497.64it/s]\n"
     ]
    },
    {
     "name": "stdout",
     "output_type": "stream",
     "text": [
      "size of vocabulary: 47628\n"
     ]
    }
   ],
   "source": [
    "from tqdm import tqdm\n",
    "from utils import limit_vocab\n",
    "\n",
    "gender_specific = []\n",
    "\n",
    "with open('./data/male_word_file.txt') as f:\n",
    "    for l in f:\n",
    "        gender_specific.append(l.strip())\n",
    "with open('./data/female_word_file.txt') as f:\n",
    "    for l in f:\n",
    "        gender_specific.append(l.strip())\n",
    "print(len(gender_specific))\n",
    "\n",
    "with codecs.open('./data/gender_specific_full.json') as f:\n",
    "    gender_specific.extend(json.load(f))\n",
    "\n",
    "\n",
    "exclude_words = gender_specific\n",
    "print(len(exclude_words))\n",
    "\n",
    "glove_vocab_limit, glove_limit, glove_w2i_limit = limit_vocab(glove, glove_w2i, vocab, exclude = exclude_words)"
   ]
  },
  {
   "cell_type": "code",
   "execution_count": 9,
   "metadata": {},
   "outputs": [
    {
     "name": "stderr",
     "output_type": "stream",
     "text": [
      "100%|██████████| 50000/50000 [00:00<00:00, 228047.23it/s]\n"
     ]
    },
    {
     "name": "stdout",
     "output_type": "stream",
     "text": [
      "size of vocabulary: 47628\n"
     ]
    }
   ],
   "source": [
    "dhd_vocab_limit, dhd_limit, dhd_w2i_limit = limit_vocab(\n",
    "    dhd_glove, dhd_glove_w2i, dhd_vocab, exclude = exclude_words)"
   ]
  },
  {
   "cell_type": "code",
   "execution_count": 10,
   "metadata": {},
   "outputs": [
    {
     "name": "stderr",
     "output_type": "stream",
     "text": [
      "100%|██████████| 50000/50000 [00:00<00:00, 254371.36it/s]\n"
     ]
    },
    {
     "name": "stdout",
     "output_type": "stream",
     "text": [
      "size of vocabulary: 49646\n"
     ]
    }
   ],
   "source": [
    "null_vocab_limit, null_limit, null_w2i_limit = limit_vocab(\n",
    "    null_glove, null_glove_w2i, null_vocab, exclude = exclude_words)"
   ]
  },
  {
   "cell_type": "markdown",
   "metadata": {},
   "source": [
    "### Select originally top biased words"
   ]
  },
  {
   "cell_type": "code",
   "execution_count": 11,
   "metadata": {},
   "outputs": [],
   "source": [
    "he_embed = glove[glove_w2i['he'], :]\n",
    "she_embed = glove[glove_w2i['she'], :]\n",
    "\n",
    "def simi(a, b):\n",
    "    return 1-scipy.spatial.distance.cosine(a, b)\n",
    "\n",
    "def compute_bias_by_projection(wv, w2i, vocab):\n",
    "    d = {}\n",
    "    for w in vocab:\n",
    "        u = wv[w2i[w], :]\n",
    "        d[w] = simi(u, he_embed) - simi(u, she_embed)\n",
    "    return d\n",
    "\n",
    "gender_bias_bef = compute_bias_by_projection(glove_limit, glove_w2i_limit, glove_vocab_limit)\n",
    "sorted_g = sorted(gender_bias_bef.items(), key=operator.itemgetter(1))"
   ]
  },
  {
   "cell_type": "markdown",
   "metadata": {},
   "source": [
    "### TSNE visualization of originally top biased words"
   ]
  },
  {
   "cell_type": "code",
   "execution_count": 12,
   "metadata": {},
   "outputs": [],
   "source": [
    "def visualize(vectors, y_true, y_pred, ax, title, random_state):\n",
    "    \n",
    "    # perform TSNE\n",
    "    vectors = normalize(vectors)\n",
    "    X_embedded = TSNE(n_components=2, random_state=random_state).fit_transform(vectors)\n",
    "    for x,p,y in zip(X_embedded, y_pred, y_true):\n",
    "        if y:\n",
    "            ax.scatter(x[0], x[1], marker = '.', c = 'c')\n",
    "        else:\n",
    "            ax.scatter(x[0], x[1], marker = 'x', c = 'darkviolet')\n",
    "    \n",
    "    return ax\n",
    "\n",
    "def cluster_and_visualize(words, X1, title, random_state, tsne_random_state, y_true, num=2):\n",
    "    \n",
    "    kmeans_1 = KMeans(n_clusters=num, random_state=random_state).fit(X1)\n",
    "    y_pred_1 = kmeans_1.predict(X1)\n",
    "    correct = [1 if item1 == item2 else 0 for (item1,item2) in zip(y_true, y_pred_1) ]\n",
    "    print('precision', max(sum(correct)/float(len(correct)), 1 - sum(correct)/float(len(correct))))\n",
    "    \n",
    "    fig, axs = plt.subplots(1, 1, figsize=(6, 3))\n",
    "    ax1 = visualize(X1, y_true, y_pred_1, axs, title, tsne_random_state)\n",
    "    \n",
    "#     fig.savefig(\"a_{}_{}_{}.pdf\".format(title, size, random_state))\n"
   ]
  },
  {
   "cell_type": "code",
   "execution_count": 13,
   "metadata": {},
   "outputs": [],
   "source": [
    "from sklearn.cluster import KMeans\n",
    "from sklearn.manifold import TSNE\n",
    "from utils import extract_vectors\n",
    "import operator\n",
    "import matplotlib as mpl\n",
    "import matplotlib.pyplot as plt\n",
    "from cycler import cycler\n",
    "%matplotlib inline\n",
    "\n",
    "size=500\n",
    "female = [item[0] for item in sorted_g[:size]]\n",
    "male = [item[0] for item in sorted_g[-size:]]\n",
    "y_true = [1]*size + [0]*size"
   ]
  },
  {
   "cell_type": "code",
   "execution_count": 14,
   "metadata": {},
   "outputs": [],
   "source": [
    "# You may change the random states to get more visualization result\n",
    "random_state = 0\n",
    "tsne_random_state = 5"
   ]
  },
  {
   "cell_type": "code",
   "execution_count": 15,
   "metadata": {},
   "outputs": [
    {
     "name": "stdout",
     "output_type": "stream",
     "text": [
      "precision 1.0\n"
     ]
    },
    {
     "data": {
      "image/png": "[encoded data removed]",
      "text/plain": [
       "<Figure size 432x216 with 1 Axes>"
      ]
     },
     "metadata": {
      "needs_background": "light"
     },
     "output_type": "display_data"
    }
   ],
   "source": [
    "cluster_and_visualize(male + female, extract_vectors(male + female, glove_limit, glove_w2i_limit), \n",
    "                          'GloVe', random_state, tsne_random_state, y_true)"
   ]
  },
  {
   "cell_type": "code",
   "execution_count": 16,
   "metadata": {},
   "outputs": [
    {
     "name": "stdout",
     "output_type": "stream",
     "text": [
      "precision 0.741\n"
     ]
    },
    {
     "data": {
      "image/png": "[encoded data removed]",
      "text/plain": [
       "<Figure size 432x216 with 1 Axes>"
      ]
     },
     "metadata": {
      "needs_background": "light"
     },
     "output_type": "display_data"
    }
   ],
   "source": [
    "cluster_and_visualize(male + female, extract_vectors(male + female, dhd_limit, dhd_w2i_limit), \n",
    "                          'Double-Hard-GloVe', random_state, tsne_random_state, y_true)"
   ]
  },
  {
   "cell_type": "code",
   "execution_count": 17,
   "metadata": {},
   "outputs": [
    {
     "name": "stdout",
     "output_type": "stream",
     "text": [
      "precision 0.722\n"
     ]
    },
    {
     "data": {
      "image/png": "[encoded data removed]",
      "text/plain": [
       "<Figure size 432x216 with 1 Axes>"
      ]
     },
     "metadata": {
      "needs_background": "light"
     },
     "output_type": "display_data"
    }
   ],
   "source": [
    "cluster_and_visualize(male + female, extract_vectors(male + female, null_limit, null_w2i_limit), \n",
    "                          'Double-Hard-Null It Out GloVe', random_state, tsne_random_state, y_true)"
   ]
  },
  {
   "cell_type": "markdown",
   "metadata": {},
   "source": [
    "### Cluster originally top biased words\n",
    "Following results may be slightly different from the numbers reported in the paper. This is due to:\n",
    "\n",
    "1. how we select top biased words. Here, we select ones with largest similarities with **he** and **she** without normalizing embeddings, however, this may not be the perfect way. Other options can be:\n",
    "    - normalize word embeddings first and then pick top biased words.\n",
    "    - select according to projections on the difference vector of **he** and **she**.\n",
    "2. different random state used in the clustering algorithm.\n",
    "\n",
    "We care more about the relative clustering acc change and we see significant decrease with Double-Hard Debiased embeddings."
   ]
  },
  {
   "cell_type": "code",
   "execution_count": 18,
   "metadata": {},
   "outputs": [],
   "source": [
    "def cluster(words, X1, random_state, y_true, num=2):\n",
    "    \n",
    "    kmeans_1 = KMeans(n_clusters=num, random_state=random_state).fit(X1)\n",
    "    y_pred_1 = kmeans_1.predict(X1)\n",
    "    correct = [1 if item1 == item2 else 0 for (item1,item2) in zip(y_true, y_pred_1) ]\n",
    "    print('precision', max(sum(correct)/float(len(correct)), 1 - sum(correct)/float(len(correct))))"
   ]
  },
  {
   "cell_type": "code",
   "execution_count": 19,
   "metadata": {},
   "outputs": [],
   "source": [
    "# Cluster most biased words before and after debiasing\n",
    "\n",
    "def my_cluster(wv, w2i, start=0, size=500, random_state = 1):\n",
    "    \n",
    "    if start == 0:\n",
    "        female = [item[0] for item in sorted_g[:size]]\n",
    "        male = [item[0] for item in sorted_g[-size:]]\n",
    "    else:\n",
    "        female = [item[0] for item in sorted_g[start:size+start]]\n",
    "        male = [item[0] for item in sorted_g[-(start+size):-start]]\n",
    "\n",
    "    y_true = [1]*size + [0]*size\n",
    "    \n",
    "    cluster(male + female, extract_vectors(male + female, wv, w2i), random_state, y_true)"
   ]
  },
  {
   "cell_type": "code",
   "execution_count": 20,
   "metadata": {},
   "outputs": [
    {
     "name": "stdout",
     "output_type": "stream",
     "text": [
      "precision 1.0\n",
      "precision 0.665\n",
      "precision 0.5900000000000001\n"
     ]
    }
   ],
   "source": [
    "random_state_=0\n",
    "start=0\n",
    "end=100\n",
    "my_cluster(glove_limit, glove_w2i_limit, start, end, random_state=random_state_)\n",
    "my_cluster(dhd_limit, dhd_w2i_limit, start, end, random_state=random_state_)\n",
    "my_cluster(null_limit, null_w2i_limit, start, end, random_state=random_state_)\n",
    "\n"
   ]
  },
  {
   "cell_type": "code",
   "execution_count": 21,
   "metadata": {},
   "outputs": [
    {
     "name": "stdout",
     "output_type": "stream",
     "text": [
      "precision 1.0\n",
      "precision 0.741\n",
      "precision 0.722\n"
     ]
    }
   ],
   "source": [
    "random_state_=0\n",
    "start=0\n",
    "end=500\n",
    "my_cluster(glove_limit, glove_w2i_limit, start, end, random_state=random_state_)\n",
    "my_cluster(dhd_limit, dhd_w2i_limit, start, end, random_state=random_state_)\n",
    "my_cluster(null_limit, null_w2i_limit, start, end, random_state=random_state_)\n"
   ]
  },
  {
   "cell_type": "code",
   "execution_count": 22,
   "metadata": {},
   "outputs": [
    {
     "name": "stdout",
     "output_type": "stream",
     "text": [
      "precision 1.0\n",
      "precision 0.704\n",
      "precision 0.701\n"
     ]
    }
   ],
   "source": [
    "random_state_= 0\n",
    "start=0\n",
    "end=1000\n",
    "my_cluster(glove_limit, glove_w2i_limit, start, end, random_state=random_state_)\n",
    "my_cluster(dhd_limit, dhd_w2i_limit, start, end, random_state=random_state_)\n",
    "my_cluster(null_limit, null_w2i_limit, start, end, random_state=random_state_)\n"
   ]
  },
  {
   "cell_type": "markdown",
   "metadata": {},
   "source": [
    "### Classification experiment\n",
    "\n",
    "We also test classification experiment as described in [Lipstick on a Pig](https://arxiv.org/abs/1903.03862). However, we don't see any significant improvement on any debiasing approaches. We suspect that classification may not reflect gender bia correctly as it can always find a decision boundary with supervisions which may not be gender. "
   ]
  },
  {
   "cell_type": "code",
   "execution_count": 23,
   "metadata": {},
   "outputs": [],
   "source": [
    "from sklearn import svm\n",
    "from random import shuffle\n",
    "import random\n",
    "from utils import train_and_predict\n",
    "\n",
    "def cls(wv, w2i, vocab, size_train, size_test):\n",
    "    size = size_train + size_test\n",
    "    females = [item[0] for item in sorted_g[:size]]\n",
    "    males = [item[0] for item in sorted_g[-size:]]\n",
    "    males.reverse()\n",
    "\n",
    "    shuffle(females)\n",
    "    shuffle(males)\n",
    "\n",
    "    train_and_predict(wv, w2i, vocab, size_train, size_test, males, females)"
   ]
  },
  {
   "cell_type": "code",
   "execution_count": 24,
   "metadata": {},
   "outputs": [
    {
     "name": "stdout",
     "output_type": "stream",
     "text": [
      "accuracy: 1.0\n",
      "accuracy: 0.929\n",
      "accuracy: 0.701\n"
     ]
    }
   ],
   "source": [
    "size_train=100\n",
    "size_test=1000\n",
    "cls(glove_limit, glove_w2i_limit, glove_vocab_limit, size_train, size_test)\n",
    "cls(dhd_limit, dhd_w2i_limit, dhd_vocab_limit, size_train, size_test)\n",
    "cls(null_limit, null_w2i_limit, null_vocab_limit, size_train, size_test)\n"
   ]
  },
  {
   "cell_type": "markdown",
   "metadata": {},
   "source": [
    "### Association Experiments (Calisken et al.)"
   ]
  },
  {
   "cell_type": "code",
   "execution_count": 32,
   "metadata": {},
   "outputs": [
    {
     "name": "stdout",
     "output_type": "stream",
     "text": [
      "['john', 'paul', 'mike', 'kevin', 'steve', 'greg', 'jeff', 'tom']\n",
      "['amy', 'joan', 'lisa', 'sarah', 'diana', 'kate', 'ann', 'donna']\n",
      "['science', 'technology', 'physics', 'chemistry', 'einstein', 'nasa', 'experiment', 'astronomy']\n",
      "['poetry', 'art', 'shakespeare', 'dance', 'literature', 'novel', 'symphony', 'drama']\n"
     ]
    }
   ],
   "source": [
    "from utils import p_value_exhust, effect_size\n",
    "from utils import WEAT_words\n",
    "\n",
    "A = WEAT_words['A']\n",
    "B = WEAT_words['B']\n",
    "C = WEAT_words['C']\n",
    "D = WEAT_words['D']\n",
    "C = WEAT_words['E']\n",
    "D = WEAT_words['F']\n",
    "C = WEAT_words['G']\n",
    "D = WEAT_words['H']\n",
    "\n",
    "A = [elem.lower() for elem in A]\n",
    "A = ['john', 'paul', 'mike', 'kevin', 'steve', 'greg', 'jeff', 'tom']\n",
    "B = [elem.lower() for elem in B]\n",
    "B = ['amy', 'joan', 'lisa', 'sarah', 'diana', 'kate', 'ann', 'donna']\n",
    "C = [elem.lower() for elem in C]\n",
    "D = [elem.lower() for elem in D]\n",
    "print(A)\n",
    "print(B)\n",
    "print(C)\n",
    "print(D)"
   ]
  },
  {
   "cell_type": "code",
   "execution_count": 33,
   "metadata": {},
   "outputs": [
    {
     "name": "stdout",
     "output_type": "stream",
     "text": [
      "0.8793966839691493\n",
      "-0.1496392289350194\n",
      "0.13909625403038622\n"
     ]
    }
   ],
   "source": [
    "print(effect_size(A, B, C, D, glove, glove_w2i, vocab))\n",
    "print(effect_size(A, B, C, D, dhd_glove, dhd_glove_w2i, dhd_vocab))\n",
    "print(effect_size(A, B, C, D, null_glove, null_glove_w2i, null_vocab))"
   ]
  },
  {
   "cell_type": "code",
   "execution_count": 34,
   "metadata": {},
   "outputs": [
    {
     "name": "stdout",
     "output_type": "stream",
     "text": [
      "num of samples 12870\n",
      "0.03605283605283605\n",
      "num of samples 12870\n",
      "0.6142191142191142\n",
      "num of samples 12870\n",
      "0.39487179487179486\n"
     ]
    }
   ],
   "source": [
    "print(p_value_exhust(A, B, C, D, glove, glove_w2i, vocab))\n",
    "print(p_value_exhust(A, B, C, D, dhd_glove, dhd_glove_w2i, dhd_vocab))\n",
    "print(p_value_exhust(A, B, C, D, null_glove, null_glove_w2i, null_vocab))"
   ]
  },
  {
   "cell_type": "code",
   "execution_count": null,
   "metadata": {},
   "outputs": [],
   "source": []
  }
 ],
 "metadata": {
  "kernelspec": {
   "display_name": "Python 3",
   "language": "python",
   "name": "python3"
  },
  "language_info": {
   "codemirror_mode": {
    "name": "ipython",
    "version": 3
   },
   "file_extension": ".py",
   "mimetype": "text/x-python",
   "name": "python",
   "nbconvert_exporter": "python",
   "pygments_lexer": "ipython3",
   "version": "3.7.9"
  }
 },
 "nbformat": 4,
 "nbformat_minor": 2
}
